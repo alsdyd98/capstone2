{
 "cells": [
  {
   "cell_type": "code",
   "execution_count": 1,
   "metadata": {
    "execution": {
     "iopub.execute_input": "2023-11-21T13:59:44.044570Z",
     "iopub.status.busy": "2023-11-21T13:59:44.043899Z",
     "iopub.status.idle": "2023-11-21T13:59:47.209010Z",
     "shell.execute_reply": "2023-11-21T13:59:47.207757Z"
    }
   },
   "outputs": [
    {
     "name": "stderr",
     "output_type": "stream",
     "text": [
      "/home/alsdyd98/anaconda3/envs/instblip/lib/python3.9/site-packages/tqdm/auto.py:21: TqdmWarning: IProgress not found. Please update jupyter and ipywidgets. See https://ipywidgets.readthedocs.io/en/stable/user_install.html\n",
      "  from .autonotebook import tqdm as notebook_tqdm\n"
     ]
    }
   ],
   "source": [
    "from transformers import InstructBlipProcessor, InstructBlipForConditionalGeneration\n",
    "import torch\n",
    "import os\n",
    "import json\n",
    "from PIL import Image\n",
    "from tqdm import tqdm\n",
    "# os.environ['CUDA_DEVICE_ORDER'] = 'PCI_BUS_ID'\n",
    "# os.environ['CUDA_VISIBLE_DEVICES'] = '5,6,7'\n",
    "device = \"cuda:5\""
   ]
  },
  {
   "cell_type": "code",
   "execution_count": 2,
   "metadata": {
    "execution": {
     "iopub.execute_input": "2023-11-21T13:59:47.215068Z",
     "iopub.status.busy": "2023-11-21T13:59:47.214613Z",
     "iopub.status.idle": "2023-11-21T13:59:47.219899Z",
     "shell.execute_reply": "2023-11-21T13:59:47.218696Z"
    }
   },
   "outputs": [],
   "source": [
    "# https://github.com/salesforce/LAVIS/tree/main/projects/instructblip#prepare-vicuna-weights\n",
    "#!pip3 install \"fschat[model_worker,webui]\"\n",
    "#!python3 -m fastchat.serve.cli --model-path lmsys/vicuna-7b-v1.5"
   ]
  },
  {
   "cell_type": "code",
   "execution_count": 3,
   "metadata": {
    "execution": {
     "iopub.execute_input": "2023-11-21T13:59:47.223625Z",
     "iopub.status.busy": "2023-11-21T13:59:47.223325Z",
     "iopub.status.idle": "2023-11-21T14:00:58.973626Z",
     "shell.execute_reply": "2023-11-21T14:00:58.972581Z"
    }
   },
   "outputs": [
    {
     "name": "stderr",
     "output_type": "stream",
     "text": [
      "Loading checkpoint shards: 100%|██████████| 4/4 [01:05<00:00, 16.42s/it]\n"
     ]
    }
   ],
   "source": [
    "from transformers import InstructBlipProcessor, InstructBlipForConditionalGeneration\n",
    "import torch\n",
    "\n",
    "processor = InstructBlipProcessor.from_pretrained(\"Salesforce/instructblip-vicuna-7b\")\n",
    "model = InstructBlipForConditionalGeneration.from_pretrained(\"Salesforce/instructblip-vicuna-7b\", device_map = device, load_in_4bit=True, torch_dtype=torch.float16)"
   ]
  },
  {
   "cell_type": "code",
   "execution_count": 4,
   "metadata": {
    "execution": {
     "iopub.execute_input": "2023-11-21T14:00:58.979679Z",
     "iopub.status.busy": "2023-11-21T14:00:58.979310Z",
     "iopub.status.idle": "2023-11-21T14:00:58.988636Z",
     "shell.execute_reply": "2023-11-21T14:00:58.987936Z"
    }
   },
   "outputs": [],
   "source": [
    "class AnswerGenerator:\n",
    "    def __init__(self, model, preprocessor, device='cuda'):\n",
    "        self.model = model\n",
    "        self.preprocessor = preprocessor\n",
    "        self.device = device\n",
    "\n",
    "    @torch.no_grad()\n",
    "    def _load(self, image, prompt):\n",
    "        if type(image) == str:\n",
    "            raw_image = Image.open(image).convert(\"RGB\")\n",
    "        else:\n",
    "            raw_image = image\n",
    "        # image_emb = self.preprocessor[\"eval\"](raw_image).unsqueeze(0).to(device)\n",
    "        inputs = processor(images=raw_image, text=prompt, return_tensors=\"pt\").to(device=device, dtype=torch.float16)\n",
    "        return inputs\n",
    "\n",
    "    def inference(self, image, prompt):\n",
    "        inputs = self._load(image, prompt)\n",
    "        # qaSet = {\"image\": img_emb, \"prompt\": prompt}\n",
    "        outputs = self.model.generate(**inputs,         \n",
    "        num_beams=5,\n",
    "        max_new_tokens=1024,\n",
    "        min_length=1,\n",
    "        top_p=0.9,\n",
    "        repetition_penalty=1.5,\n",
    "        length_penalty=1.0,\n",
    "        temperature=1,)\n",
    "        # print(processor.batch_decode(outputs, skip_special_tokens=True))\n",
    "        generated_text = processor.batch_decode(outputs, skip_special_tokens=True)[0].strip()\n",
    "        return generated_text\n"
   ]
  },
  {
   "cell_type": "code",
   "execution_count": 5,
   "metadata": {
    "execution": {
     "iopub.execute_input": "2023-11-21T14:00:58.994483Z",
     "iopub.status.busy": "2023-11-21T14:00:58.994170Z",
     "iopub.status.idle": "2023-11-21T16:17:50.447588Z",
     "shell.execute_reply": "2023-11-21T16:17:50.445958Z"
    }
   },
   "outputs": [
    {
     "name": "stdout",
     "output_type": "stream",
     "text": [
      "230\n"
     ]
    },
    {
     "name": "stderr",
     "output_type": "stream",
     "text": [
      "  0%|          | 0/70 [00:00<?, ?it/s]/home/alsdyd98/anaconda3/envs/instblip/lib/python3.9/site-packages/bitsandbytes/nn/modules.py:226: UserWarning: Input type into Linear4bit is torch.float16, but bnb_4bit_compute_type=torch.float32 (default). This will lead to slow inference or training speed.\n",
      "  warnings.warn(f'Input type into Linear4bit is torch.float16, but bnb_4bit_compute_type=torch.float32 (default). This will lead to slow inference or training speed.')\n",
      "100%|██████████| 70/70 [2:16:51<00:00, 117.31s/it]\n"
     ]
    }
   ],
   "source": [
    "llm = AnswerGenerator(model, processor, device)\n",
    "base_dir = \".\"\n",
    "# key: imageFile_name, value: [{key(Q_i):value(question description)}]\n",
    "with open(f'{base_dir}/question_data_updated.json', 'r') as f:\n",
    "    question_dict = json.load(f)\n",
    "\n",
    "answer_dict = {}\n",
    "print(len(list(question_dict.keys())))\n",
    "for fileName in tqdm(list(question_dict.keys())[160:]):\n",
    "    answer_dict[fileName] = {}\n",
    "    for q in question_dict[fileName]:\n",
    "        # img_dir = f'{base_dir}/images/whoops_images/{fileName}.png'\n",
    "        img_dir = f'{base_dir}/images/black_image.jpg'\n",
    "        ans = llm.inference(img_dir, question_dict[fileName][q])\n",
    "        ansKey = q\n",
    "        answer_dict[fileName][ansKey] = ans\n",
    "    with open(f'{base_dir}/answer_set_true_black_3.json', 'w') as outfile:\n",
    "        json.dump(answer_dict, outfile)\n",
    "\n",
    "with open(f'{base_dir}/answer_set_true_black_3.json', 'w') as outfile:\n",
    "    json.dump(answer_dict, outfile)"
   ]
  }
 ],
 "metadata": {
  "kernelspec": {
   "display_name": "instblip",
   "language": "python",
   "name": "python3"
  },
  "language_info": {
   "codemirror_mode": {
    "name": "ipython",
    "version": 3
   },
   "file_extension": ".py",
   "mimetype": "text/x-python",
   "name": "python",
   "nbconvert_exporter": "python",
   "pygments_lexer": "ipython3",
   "version": "3.9.18"
  }
 },
 "nbformat": 4,
 "nbformat_minor": 2
}
