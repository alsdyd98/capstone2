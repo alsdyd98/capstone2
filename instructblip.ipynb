{
 "cells": [
  {
   "cell_type": "code",
   "execution_count": 1,
   "metadata": {},
   "outputs": [
    {
     "name": "stderr",
     "output_type": "stream",
     "text": [
      "/home/alsdyd98/anaconda3/envs/instblip/lib/python3.9/site-packages/tqdm/auto.py:21: TqdmWarning: IProgress not found. Please update jupyter and ipywidgets. See https://ipywidgets.readthedocs.io/en/stable/user_install.html\n",
      "  from .autonotebook import tqdm as notebook_tqdm\n"
     ]
    }
   ],
   "source": [
    "from transformers import InstructBlipProcessor, InstructBlipForConditionalGeneration\n",
    "import torch\n",
    "import os\n",
    "import json\n",
    "from PIL import Image\n",
    "\n",
    "device = \"cuda\""
   ]
  },
  {
   "cell_type": "code",
   "execution_count": null,
   "metadata": {},
   "outputs": [],
   "source": [
    "# https://github.com/salesforce/LAVIS/tree/main/projects/instructblip#prepare-vicuna-weights\n",
    "#!pip3 install \"fschat[model_worker,webui]\"\n",
    "#!python3 -m fastchat.serve.cli --model-path lmsys/vicuna-7b-v1.5"
   ]
  },
  {
   "cell_type": "code",
   "execution_count": 2,
   "metadata": {},
   "outputs": [
    {
     "name": "stderr",
     "output_type": "stream",
     "text": [
      "Loading checkpoint shards: 100%|██████████| 4/4 [01:08<00:00, 17.21s/it]\n"
     ]
    }
   ],
   "source": [
    "from transformers import InstructBlipProcessor, InstructBlipForConditionalGeneration\n",
    "import torch\n",
    "\n",
    "processor = InstructBlipProcessor.from_pretrained(\"Salesforce/instructblip-vicuna-7b\")\n",
    "model = InstructBlipForConditionalGeneration.from_pretrained(\"Salesforce/instructblip-vicuna-7b\", load_in_4bit=True, torch_dtype=torch.float16)"
   ]
  },
  {
   "cell_type": "code",
   "execution_count": 19,
   "metadata": {},
   "outputs": [],
   "source": [
    "class AnswerGenerator:\n",
    "    def __init__(self, model, preprocessor, device='cuda'):\n",
    "        self.model = model\n",
    "        self.preprocessor = preprocessor\n",
    "        self.device = device\n",
    "\n",
    "    @torch.no_grad()\n",
    "    def _load(self, image, prompt):\n",
    "        if type(image) == str:\n",
    "            raw_image = Image.open(image).convert(\"RGB\")\n",
    "        else:\n",
    "            raw_image = image\n",
    "        # image_emb = self.preprocessor[\"eval\"](raw_image).unsqueeze(0).to(device)\n",
    "        inputs = processor(images=raw_image, text=prompt, return_tensors=\"pt\").to(device=\"cuda\", dtype=torch.float32)\n",
    "        return inputs\n",
    "\n",
    "    def inference(self, image, prompt):\n",
    "        inputs = self._load(image, prompt)\n",
    "        # qaSet = {\"image\": img_emb, \"prompt\": prompt}\n",
    "        outputs = self.model.generate(**inputs)\n",
    "        generated_text = processor.batch_decode(outputs, skip_special_tokens=True)[0].strip()\n",
    "        return generated_text\n"
   ]
  },
  {
   "cell_type": "code",
   "execution_count": 20,
   "metadata": {},
   "outputs": [
    {
     "name": "stderr",
     "output_type": "stream",
     "text": [
      "/home/alsdyd98/anaconda3/envs/instblip/lib/python3.9/site-packages/bitsandbytes/nn/modules.py:226: UserWarning: Input type into Linear4bit is torch.float16, but bnb_4bit_compute_type=torch.float32 (default). This will lead to slow inference or training speed.\n",
      "  warnings.warn(f'Input type into Linear4bit is torch.float16, but bnb_4bit_compute_type=torch.float32 (default). This will lead to slow inference or training speed.')\n",
      "/home/alsdyd98/anaconda3/envs/instblip/lib/python3.9/site-packages/transformers/generation/utils.py:1369: UserWarning: Using `max_length`'s default (20) to control the generation length. This behaviour is deprecated and will be removed from the config in v5 of Transformers -- we recommend using `max_new_tokens` to control the maximum length of the generation.\n",
      "  warnings.warn(\n",
      "/home/alsdyd98/anaconda3/envs/instblip/lib/python3.9/site-packages/transformers/generation/utils.py:1369: UserWarning: Using `max_length`'s default (20) to control the generation length. This behaviour is deprecated and will be removed from the config in v5 of Transformers -- we recommend using `max_new_tokens` to control the maximum length of the generation.\n",
      "  warnings.warn(\n"
     ]
    }
   ],
   "source": [
    "llm = AnswerGenerator(model, processor, device)\n",
    "base_dir = \".\"\n",
    "# key: imageFile_name, value: [{key(Q_i):value(question description)}]\n",
    "with open(f'{base_dir}/qSet.json', 'r') as f:\n",
    "    question_dict = json.load(f)\n",
    "\n",
    "answer_dict = {}\n",
    "for fileName in question_dict.keys():\n",
    "    answer_dict[fileName] = {}\n",
    "    for q in question_dict[fileName]:\n",
    "        img_dir = f'{base_dir}/images/{fileName}.png'\n",
    "        ans = llm.inference(img_dir, question_dict[fileName][q])\n",
    "        ansKey = \"A\" + q[1:]\n",
    "        answer_dict[fileName][ansKey] = ans\n",
    "\n",
    "with open(f'{base_dir}/answer_set.json', 'w') as outfile:\n",
    "    json.dump(answer_dict, outfile)"
   ]
  }
 ],
 "metadata": {
  "kernelspec": {
   "display_name": "instblip",
   "language": "python",
   "name": "python3"
  },
  "language_info": {
   "codemirror_mode": {
    "name": "ipython",
    "version": 3
   },
   "file_extension": ".py",
   "mimetype": "text/x-python",
   "name": "python",
   "nbconvert_exporter": "python",
   "pygments_lexer": "ipython3",
   "version": "3.9.18"
  }
 },
 "nbformat": 4,
 "nbformat_minor": 2
}
